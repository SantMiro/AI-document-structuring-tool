{
 "cells": [
  {
   "cell_type": "code",
   "execution_count": 59,
   "id": "4b179b96-2fa0-4a1e-a911-ef379fe44194",
   "metadata": {},
   "outputs": [],
   "source": [
    "import os\n",
    "import fitz  # PyMuPDF\n",
    "import requests\n",
    "from bs4 import BeautifulSoup\n",
    "from docx import Document"
   ]
  },
  {
   "cell_type": "code",
   "execution_count": 5,
   "id": "7dc9aec4-d5ed-4665-a5db-e4274f607c8e",
   "metadata": {},
   "outputs": [],
   "source": [
    "home_dir = os.getenv('HOME')\n",
    "data_path = os.path.join(home_dir,'data')\n"
   ]
  },
  {
   "cell_type": "code",
   "execution_count": 6,
   "id": "60f058e8-69ea-4bcf-924c-eabeb0beee31",
   "metadata": {},
   "outputs": [
    {
     "name": "stdout",
     "output_type": "stream",
     "text": [
      "['Article1.pdf', 'Article2.pdf']\n"
     ]
    }
   ],
   "source": [
    "elements = os.listdir(data_path)\n",
    "print(elements)"
   ]
  },
  {
   "cell_type": "code",
   "execution_count": 50,
   "id": "57ff8d3c-d218-4fc9-9d67-b56b5ee7af0e",
   "metadata": {},
   "outputs": [],
   "source": [
    "def download_file_from_url(url, save_path):\n",
    "    response = requests.get(url)\n",
    "    if response.status_code == 200:\n",
    "        with open(data_path + '\\\\' + save_path, 'wb') as file:\n",
    "            file.write(response.content)\n",
    "        return save_path\n",
    "    else:\n",
    "        raise ValueError(f\"Failed to download file from {url}, status code: {response.status_code}\")"
   ]
  },
  {
   "cell_type": "code",
   "execution_count": 7,
   "id": "def811f0-8287-4e23-9ee8-0e1d15c71788",
   "metadata": {},
   "outputs": [],
   "source": [
    "def extract_text_from_pdf(pdf_path):\n",
    "    doc = fitz.open(pdf_path)\n",
    "    text = \"\"\n",
    "    for page in doc:\n",
    "        text += page.get_text()\n",
    "    return text\n"
   ]
  },
  {
   "cell_type": "code",
   "execution_count": 12,
   "id": "4735db28-5bc6-4b95-b4cd-c17054795dd5",
   "metadata": {},
   "outputs": [],
   "source": [
    "text_pdf = extract_text_from_pdf(data_path +'/'+ elements[0])"
   ]
  },
  {
   "cell_type": "code",
   "execution_count": 13,
   "id": "3ea6da5c-9ccd-489f-9be9-ee48a539c2f0",
   "metadata": {},
   "outputs": [],
   "source": [
    "def extract_text_from_txt(txt_path):\n",
    "    with open(txt_path, 'r', encoding='utf-8') as f:\n",
    "        text = f.read()\n",
    "    return text"
   ]
  },
  {
   "cell_type": "code",
   "execution_count": 16,
   "id": "34d2952e-0966-4ef0-8cda-078410c33a19",
   "metadata": {},
   "outputs": [],
   "source": [
    "def get_text_from_url(url):\n",
    "    response = requests.get(url)\n",
    "    soup = BeautifulSoup(response.text, 'html.parser')\n",
    "    \n",
    "    # Extract text from specific HTML elements\n",
    "    paragraphs = soup.find_all('p')\n",
    "    text = '\\n'.join([para.get_text() for para in paragraphs])\n",
    "    \n",
    "    return text"
   ]
  },
  {
   "cell_type": "code",
   "execution_count": 60,
   "id": "cd995670-ed25-4a32-b6a0-e0077771502a",
   "metadata": {},
   "outputs": [],
   "source": [
    "def extract_text_from_word(docx_path):\n",
    "    doc = Document(docx_path)\n",
    "    text = \"\\n\".join([para.text for para in doc.paragraphs])\n",
    "    return text"
   ]
  },
  {
   "cell_type": "code",
   "execution_count": 40,
   "id": "fbcddfb7-186b-43d2-a004-92c12ea71805",
   "metadata": {},
   "outputs": [],
   "source": [
    "url = 'https://en.wikipedia.org/wiki/Main_Page'\n",
    "url_pdf = 'https://www.bombmanual.com/print/KeepTalkingAndNobodyExplodes-BombDefusalManual-v1.pdf'"
   ]
  },
  {
   "cell_type": "code",
   "execution_count": 17,
   "id": "af74411f-6d61-433b-be50-3852314578d1",
   "metadata": {},
   "outputs": [],
   "source": [
    "text_url = get_text_from_url(url)\n"
   ]
  },
  {
   "cell_type": "code",
   "execution_count": 61,
   "id": "c84a5f90-c7b4-43e9-a2f9-407a3fd4881f",
   "metadata": {},
   "outputs": [],
   "source": [
    "def extract_text(source):\n",
    "    # Check if url\n",
    "    if source.startswith('http://') or source.startswith('https://'):\n",
    "        # Check if pdf\n",
    "        if source.lower().endswith('.pdf'):\n",
    "            file_name = source.split('/')[-1]\n",
    "            dowloaded_file = download_file_from_url(source,file_name)\n",
    "            return extract_text_from_pdf(data_path+'\\\\'+dowloaded_file)\n",
    "        else: # If webpage\n",
    "            return get_text_from_url(source)\n",
    "    else:\n",
    "        file_extension = os.path.splitext(source)[1].lower()\n",
    "        if file_extension == '.pdf':\n",
    "            return extract_text_from_pdf(source)\n",
    "        elif file_extension == '.docx':\n",
    "            return extract_text_from_word(source)\n",
    "        elif file_extension == '.doc':\n",
    "            pass\n",
    "        elif file_extension == '.txt':\n",
    "            return extract_text_from_txt(source)\n",
    "        else:\n",
    "            raise ValueError(f'Not supported file format: {file_extension}')\n",
    "\n",
    "        "
   ]
  },
  {
   "cell_type": "code",
   "execution_count": 57,
   "id": "cfdc550e-f46c-491e-940c-d4e643b3b1c8",
   "metadata": {},
   "outputs": [],
   "source": [
    "source = data_path +'/'+ elements[1]\n",
    "text = extract_text(url)"
   ]
  },
  {
   "cell_type": "code",
   "execution_count": 58,
   "id": "6a4e596b-7a4e-4163-9551-b6134f32590b",
   "metadata": {},
   "outputs": [
    {
     "data": {
      "text/plain": [
       "\"John Rolph (1793–1870) was a physician, lawyer, and political figure. He immigrated to Upper Canada in 1813 and practised law and medicine concurrently. In 1824, Rolph was elected to the Parliament of Upper Canada. He was elected as an alderman to Toronto's first city council but resigned after his council colleagues did not select him as the city's mayor. When the Upper Canada Rebellion began in 1837, Rolph did not join the rebels even though he agreed to support them. Instead, the Lieutenant Governor appointed him as his emissary to deliver the government's truce offer. After the rebellion, Rolph fled to the US and focused on his medical career. The Canadian government granted him amnesty and he returned to Canada in 1843, later creating a new medical institution in Toronto called the Rolph School. In 1851 he was elected to the Legislative Assembly of the Province of Canada, but resigned three years later. He retired in 1870 and died later that year. (Full\\xa0article...)\\n\\nSeptember 11: National Day of Catalonia\\n\\nWidtsoe is a ghost town in Garfield County, Utah, United States. It is located in John's Valley, northeast of Bryce Canyon and along the Sevier River at the mouth of Sweetwater Creek. A small number of settlers arrived in the area in 1876 and it became a town around 1908 after farmer Jedediah Adair was followed by a more significant population. Initially known as Adairville, after Adair, the town later became Houston and Winder, before attaining its final name after John A. Widtsoe, the president of and an agricultural scientist at the University of Utah. The population declined significantly from 1920 following droughts, and the town emptied in 1936. Most buildings were demolished shortly afterwards. This photograph by Dorothea Lange shows Widtsoe's Emery Valley Mercantile Co. grocery store in 1936.\\n\\nPhotograph credit: Dorothea Lange; restored by Yann Forget\\nWikipedia is written by volunteer editors and hosted by the Wikimedia Foundation, a non-profit organization that also hosts a range of other volunteer projects:\\n\\nThis Wikipedia is written in English. Many other Wikipedias are available; some of the largest are listed below.\\n\""
      ]
     },
     "execution_count": 58,
     "metadata": {},
     "output_type": "execute_result"
    }
   ],
   "source": [
    "text"
   ]
  },
  {
   "cell_type": "code",
   "execution_count": null,
   "id": "6e135c6b-ff5d-4d94-912a-c104f2f7a335",
   "metadata": {},
   "outputs": [],
   "source": []
  }
 ],
 "metadata": {
  "kernelspec": {
   "display_name": "Python 3 (ipykernel)",
   "language": "python",
   "name": "python3"
  },
  "language_info": {
   "codemirror_mode": {
    "name": "ipython",
    "version": 3
   },
   "file_extension": ".py",
   "mimetype": "text/x-python",
   "name": "python",
   "nbconvert_exporter": "python",
   "pygments_lexer": "ipython3",
   "version": "3.12.6"
  }
 },
 "nbformat": 4,
 "nbformat_minor": 5
}
